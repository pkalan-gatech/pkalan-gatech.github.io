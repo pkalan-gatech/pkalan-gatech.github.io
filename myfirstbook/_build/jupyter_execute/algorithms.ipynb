{
 "cells": [
  {
   "cell_type": "markdown",
   "metadata": {
    "colab_type": "text",
    "id": "view-in-github"
   },
   "source": [
    "<a href=\"https://colab.research.google.com/github/pkalan-gatech/pkalan-gatech.github.io/blob/main/myfirstbook/algorithms.ipynb\" target=\"_parent\"><img src=\"https://colab.research.google.com/assets/colab-badge.svg\" alt=\"Open In Colab\"/></a>"
   ]
  },
  {
   "cell_type": "markdown",
   "metadata": {
    "id": "b-MEfLYup3xk"
   },
   "source": [
    "# Graph visualization of algorithms to understand interrelations\n",
    "Frequently used algorithms and their properties are represented as graphs to understand how they are connected to each other."
   ]
  },
  {
   "cell_type": "markdown",
   "metadata": {
    "id": "Ke9KGMqmUWy8"
   },
   "source": [
    "## Initial setup to create graphs"
   ]
  },
  {
   "cell_type": "code",
   "execution_count": 1,
   "metadata": {
    "id": "0zwkW82UWo7b"
   },
   "outputs": [
    {
     "ename": "ModuleNotFoundError",
     "evalue": "No module named 'pydot'",
     "output_type": "error",
     "traceback": [
      "\u001b[31m---------------------------------------------------------------------------\u001b[39m",
      "\u001b[31mModuleNotFoundError\u001b[39m                       Traceback (most recent call last)",
      "\u001b[36mCell\u001b[39m\u001b[36m \u001b[39m\u001b[32mIn[1]\u001b[39m\u001b[32m, line 7\u001b[39m\n\u001b[32m      5\u001b[39m \u001b[38;5;66;03m# from IPython.display import IFrame\u001b[39;00m\n\u001b[32m      6\u001b[39m \u001b[38;5;28;01mimport\u001b[39;00m\u001b[38;5;250m \u001b[39m\u001b[34;01mnetworkx\u001b[39;00m\u001b[38;5;250m \u001b[39m\u001b[38;5;28;01mas\u001b[39;00m\u001b[38;5;250m \u001b[39m\u001b[34;01mnx\u001b[39;00m\n\u001b[32m----> \u001b[39m\u001b[32m7\u001b[39m \u001b[38;5;28;01mimport\u001b[39;00m\u001b[38;5;250m \u001b[39m\u001b[34;01mpydot\u001b[39;00m\n\u001b[32m      8\u001b[39m \u001b[38;5;28;01mimport\u001b[39;00m\u001b[38;5;250m \u001b[39m\u001b[34;01mpylab\u001b[39;00m\n\u001b[32m      9\u001b[39m \u001b[38;5;28;01mfrom\u001b[39;00m\u001b[38;5;250m \u001b[39m\u001b[34;01mnetworkx\u001b[39;00m\u001b[34;01m.\u001b[39;00m\u001b[34;01mdrawing\u001b[39;00m\u001b[34;01m.\u001b[39;00m\u001b[34;01mnx_pydot\u001b[39;00m\u001b[38;5;250m \u001b[39m\u001b[38;5;28;01mimport\u001b[39;00m graphviz_layout\n",
      "\u001b[31mModuleNotFoundError\u001b[39m: No module named 'pydot'"
     ]
    }
   ],
   "source": [
    "import matplotlib.pyplot as plt\n",
    "import numpy as np\n",
    "# from scipy.interpolate import make_interp_spline\n",
    "import pandas as pd\n",
    "# from IPython.display import IFrame\n",
    "import networkx as nx\n",
    "import pydot\n",
    "import pylab\n",
    "from networkx.drawing.nx_pydot import graphviz_layout\n",
    "import warnings\n",
    "warnings.filterwarnings(\"ignore\", category=DeprecationWarning)\n",
    "import textwrap\n",
    "\n",
    "\n",
    "if 'global_nodes' not in globals():\n",
    "  global global_nodes\n",
    "  global_nodes = {1: \"Divide\\nand\\nConquer\", 2: \"Dynamic\\nProgramming\"}\n",
    "\n",
    "def create_and_plot_graph(nodes, edges, figsize=(15,8), export_filename=None, save_data=False, add_to_global=False):\n",
    "\n",
    "  # # Wrap node labels to fit in graph nodes - replace all space with \\n\n",
    "  for key, value in nodes.items():\n",
    "    nodes[key] = textwrap.fill(\n",
    "        value, width=round(np.sqrt(len(value))*2), initial_indent='', subsequent_indent='', expand_tabs=True,\n",
    "        replace_whitespace=True, fix_sentence_endings=False, break_long_words=False,\n",
    "        drop_whitespace=True, break_on_hyphens=False, tabsize=8, max_lines=None, placeholder=' [...]')\n",
    "\n",
    "  # auto generated edges\n",
    "  node_list = list(nodes.keys())\n",
    "  for i in node_list:\n",
    "    j = 10*i + 1\n",
    "    while j in node_list:\n",
    "      edges.append([i, j])\n",
    "      j+=1\n",
    "\n",
    "  # Create graph\n",
    "  T = nx.DiGraph(overlap=False)\n",
    "\n",
    "  # Add edges to graph with color according to node label lengths\n",
    "  node_label_lengths = []\n",
    "  for edge in edges:\n",
    "    T.add_edge(nodes[edge[0]], nodes[edge[1]])\n",
    "    # node_label_lengths.append(min(len(str(edge[0])), len(str(edge[1]))))\n",
    "    node_label_lengths.append(len(str(edge[0])))\n",
    "\n",
    "  cm = pylab.get_cmap('copper')\n",
    "  # colors = [cm(1.*(i-min(node_label_lengths))/max(1,(max(node_label_lengths)-min(node_label_lengths)))) for i in node_label_lengths]\n",
    "  colors = [cm(i/max(node_label_lengths)) for i in node_label_lengths]\n",
    "\n",
    "  plt.figure(figsize=figsize)\n",
    "\n",
    "  # Set graph visualization type\n",
    "  pos = graphviz_layout(T, prog=\"neato\") # dot, twopi, fdp, sfdp, circo, neato\n",
    "  # pos = nx.kamada_kawai_layout(T)\n",
    "  # pos = nx.spring_layout(T)\n",
    "\n",
    "  # Set options\n",
    "  options = {# \"edge_color\": \"#C5C6D0\", \"font_color\": \"black\",  \"alpha\": 0.5, 'edge_cmap': 'plasma'\n",
    "            \"font_size\": 10, 'font_color': 'black', \"node_shape\": \"s\", \"node_color\": \"None\", 'arrowstyle': 'wedge',\n",
    "             \"edgecolors\": \"None\", \"linewidths\": 0.2, \"width\": 0.5, \"node_size\": 1500, 'arrowsize':15, \"edge_color\": colors,\n",
    "             'bbox': dict(facecolor=\"white\", edgecolor='black', boxstyle='round, pad=0.1',linewidth=0.1, alpha=0.2)\n",
    "            }\n",
    "\n",
    "  g = nx.draw(T, pos, with_labels=True, **options)\n",
    "\n",
    "  # Added functionality\n",
    "  if export_filename == None:\n",
    "    plt.show()\n",
    "  else:\n",
    "    plt.savefig(export_filename, dpi=300)\n",
    "\n",
    "  if save_data:\n",
    "    data = {'id':nodes.keys(), 'name':nodes.values()}\n",
    "    nodes_df = pd.DataFrame(data)\n",
    "    nodes_df.to_csv('nodes_df.csv')\n",
    "    data = {'source':[i[0] for i in edges],\n",
    "            'target':[i[1] for i in edges]}\n",
    "    edges_df = pd.DataFrame(data)\n",
    "    edges_df.to_csv('edges_df.csv')\n",
    "  if add_to_global:\n",
    "    # Find the key of value of first node in global\n",
    "    first_value_local = list(nodes.values())[0]\n",
    "    try:\n",
    "      key_match_global = str(list(global_nodes.keys())[list(global_nodes.values()).index(first_value_local)])\n",
    "      # msg = \"Added to existing branch in global\"\n",
    "      for key, value in nodes.items():\n",
    "        global_nodes[int(key_match_global + str(key)[1:])] = value\n",
    "    except:\n",
    "      print(\"Did not find existing branch in global to attach\")\n",
    "\n",
    "    return None"
   ]
  },
  {
   "cell_type": "markdown",
   "metadata": {
    "id": "UaBxX47QqFQk"
   },
   "source": [
    "## Divide and Conquer"
   ]
  },
  {
   "cell_type": "code",
   "execution_count": null,
   "metadata": {
    "cellView": "form",
    "colab": {
     "base_uri": "https://localhost:8080/",
     "height": 546
    },
    "id": "FHXkuK3WVvK7",
    "outputId": "531cf30d-b1a1-4a24-88c3-80dcbf66c991"
   },
   "outputs": [],
   "source": [
    "#@title Divide and Conquer {vertical-output: true}\n",
    "nodes = {   # write the nodes for graph to a csv file\n",
    "            1: \"Divide\\nand\\nConquer\",\n",
    "            11: 'fast modular exponentiation algorithm',\n",
    "            12: \"euclid's GCD algo\",\n",
    "            13: 'multiplying n-bit integers',\n",
    "            131: 'RSA algo',\n",
    "            132: 'multiply two n-bit integers',\n",
    "            133: 'faster than O(n2) time',\n",
    "            14: 'median',\n",
    "            15: 'FFT',\n",
    "            16: 'mergesort',\n",
    "    }\n",
    "scale = 0.6\n",
    "create_and_plot_graph(\n",
    "    nodes, edges=[], figsize=(11*scale,8.5*scale), export_filename=\"required_skills.pdf\", save_data=False,\n",
    "    add_to_global=True)"
   ]
  },
  {
   "cell_type": "markdown",
   "metadata": {
    "id": "iqa2zZQAUba8"
   },
   "source": [
    "## Dynamic Programming"
   ]
  },
  {
   "cell_type": "code",
   "execution_count": null,
   "metadata": {
    "colab": {
     "base_uri": "https://localhost:8080/",
     "height": 546
    },
    "id": "sMNvVGslxFG-",
    "outputId": "037653b7-9d30-4e8a-e58a-43bb272152e7"
   },
   "outputs": [],
   "source": [
    "#@title Divide and Conquer {vertical-output: true}\n",
    "nodes = {   # write the nodes for graph to a csv file\n",
    "            1: \"Dynamic\\nProgramming\",\n",
    "            11: 'FIB',\n",
    "            12: \"LIS\",\n",
    "            13: 'LCS',\n",
    "            14: 'Knapsack',\n",
    "            15: 'Chain Multiply',\n",
    "            16: 'Shortest Paths',\n",
    "            161: 'Bellman-Ford',\n",
    "            162: 'All-Pairs Shortest Paths',\n",
    "    }\n",
    "scale = 0.6\n",
    "create_and_plot_graph(\n",
    "    nodes, edges=[], figsize=(11*scale,8.5*scale), export_filename=\"required_skills.pdf\", save_data=False,\n",
    "    add_to_global=True)"
   ]
  },
  {
   "cell_type": "markdown",
   "metadata": {
    "id": "Pi1spMigUeK0"
   },
   "source": [
    "## Randomized Algorithms"
   ]
  },
  {
   "cell_type": "markdown",
   "metadata": {
    "id": "JS-t7yUkUk9y"
   },
   "source": [
    "## Graph Algorithms"
   ]
  },
  {
   "cell_type": "markdown",
   "metadata": {
    "id": "sh22F7LbUobb"
   },
   "source": [
    "## Max-Flow"
   ]
  },
  {
   "cell_type": "markdown",
   "metadata": {
    "id": "VRuvTkNTUqlE"
   },
   "source": [
    "## Linear Programming"
   ]
  },
  {
   "cell_type": "markdown",
   "metadata": {
    "id": "SeRodXu0Ussr"
   },
   "source": [
    "## NP-Completeness"
   ]
  }
 ],
 "metadata": {
  "colab": {
   "include_colab_link": true,
   "provenance": []
  },
  "kernelspec": {
   "display_name": "pkalan-gatech-github-io-zGEN3eKU-py3.12",
   "language": "python",
   "name": "python3"
  },
  "language_info": {
   "codemirror_mode": {
    "name": "ipython",
    "version": 3
   },
   "file_extension": ".py",
   "mimetype": "text/x-python",
   "name": "python",
   "nbconvert_exporter": "python",
   "pygments_lexer": "ipython3",
   "version": "3.12.1"
  }
 },
 "nbformat": 4,
 "nbformat_minor": 0
}